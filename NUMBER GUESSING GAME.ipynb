{
 "cells": [
  {
   "cell_type": "code",
   "execution_count": 1,
   "metadata": {
    "collapsed": false
   },
   "outputs": [
    {
     "name": "stdout",
     "output_type": "stream",
     "text": [
      "enter lower bound : 0\n",
      "enter upper bound : 100\n",
      "\n",
      "\t you have only 7 chance to guess the integer :\n",
      "\n",
      "guess a number : 80\n",
      "you guessed too large\n",
      "guess a number : 60\n",
      "you guessed too small\n",
      "guess a number : 70\n",
      "you guessed too large\n",
      "guess a number : 60\n",
      "you guessed too small\n",
      "guess a number : 64\n",
      "you guessed too small\n",
      "guess a number : 66\n",
      "you guessed too small\n",
      "guess a number : 69\n",
      "you guessed too large\n",
      "\n",
      " the number is 67 \n",
      "\t better luck next time ! \n"
     ]
    }
   ],
   "source": [
    "import random\n",
    "import math \n",
    "lowers = int(input(\"enter lower bound : \"))\n",
    "uppers = int(input(\"enter upper bound : \"))\n",
    "x = random.randint(lowers,uppers)\n",
    "print(\"\\n\\t you have only\" , round (math.log(uppers - lowers + 1,2)), \"chance to guess the integer :\\n\")\n",
    "\n",
    "count = 0\n",
    " \n",
    "while count < math .log (uppers - lowers + 1,2):\n",
    "    count += 1\n",
    "    \n",
    "    guess = int(input(\"guess a number : \"))\n",
    "    if x == guess :\n",
    "        print(\"congratulations you did it in \", count , \"try\")\n",
    "    elif x > guess :\n",
    "        print(\"you guessed too small\")\n",
    "    elif x < guess :\n",
    "        print(\"you guessed too large\")\n",
    "    \n",
    "if count >= math.log (uppers - lowers +1,2 ):\n",
    "    print(\"\\n the number is %d \" %x )\n",
    "    print(\"\\t better luck next time ! \")        "
   ]
  },
  {
   "cell_type": "code",
   "execution_count": null,
   "metadata": {
    "collapsed": true
   },
   "outputs": [],
   "source": []
  }
 ],
 "metadata": {
  "kernelspec": {
   "display_name": "Python 3",
   "language": "python",
   "name": "python3"
  },
  "language_info": {
   "codemirror_mode": {
    "name": "ipython",
    "version": 3
   },
   "file_extension": ".py",
   "mimetype": "text/x-python",
   "name": "python",
   "nbconvert_exporter": "python",
   "pygments_lexer": "ipython3",
   "version": "3.6.0"
  }
 },
 "nbformat": 4,
 "nbformat_minor": 0
}
